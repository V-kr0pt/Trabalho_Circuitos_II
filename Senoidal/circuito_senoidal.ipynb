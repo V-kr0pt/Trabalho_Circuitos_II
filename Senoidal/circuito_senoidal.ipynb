{
 "metadata": {
  "language_info": {
   "codemirror_mode": {
    "name": "ipython",
    "version": 3
   },
   "file_extension": ".py",
   "mimetype": "text/x-python",
   "name": "python",
   "nbconvert_exporter": "python",
   "pygments_lexer": "ipython3",
   "version": "3.8.3-final"
  },
  "orig_nbformat": 2,
  "kernelspec": {
   "name": "python3",
   "display_name": "Python 3",
   "language": "python"
  }
 },
 "nbformat": 4,
 "nbformat_minor": 2,
 "cells": [
  {
   "cell_type": "code",
   "execution_count": 14,
   "metadata": {},
   "outputs": [],
   "source": [
    "import pandas as pd \n",
    "import numpy as np"
   ]
  },
  {
   "cell_type": "code",
   "execution_count": 19,
   "metadata": {},
   "outputs": [
    {
     "output_type": "execute_result",
     "data": {
      "text/plain": [
       "      nó saída  nó chegada  R(Ohm)  Xl(Ohm)  Xc(Ohm)  Vind(V)  Fase_Vind  \\\n",
       "Ramo                                                                       \n",
       "1            1           3       3        0        0        0          0   \n",
       "2            2           1       0        0        2        0          0   \n",
       "3            2           3       0        4        0        0          0   \n",
       "4            2           3       6        0        0       12          0   \n",
       "\n",
       "      Iind(A)  Fase_Iind  \n",
       "Ramo                      \n",
       "1           1         40  \n",
       "2           0          0  \n",
       "3           0          0  \n",
       "4           0          0  "
      ],
      "text/html": "<div>\n<style scoped>\n    .dataframe tbody tr th:only-of-type {\n        vertical-align: middle;\n    }\n\n    .dataframe tbody tr th {\n        vertical-align: top;\n    }\n\n    .dataframe thead th {\n        text-align: right;\n    }\n</style>\n<table border=\"1\" class=\"dataframe\">\n  <thead>\n    <tr style=\"text-align: right;\">\n      <th></th>\n      <th>nó saída</th>\n      <th>nó chegada</th>\n      <th>R(Ohm)</th>\n      <th>Xl(Ohm)</th>\n      <th>Xc(Ohm)</th>\n      <th>Vind(V)</th>\n      <th>Fase_Vind</th>\n      <th>Iind(A)</th>\n      <th>Fase_Iind</th>\n    </tr>\n    <tr>\n      <th>Ramo</th>\n      <th></th>\n      <th></th>\n      <th></th>\n      <th></th>\n      <th></th>\n      <th></th>\n      <th></th>\n      <th></th>\n      <th></th>\n    </tr>\n  </thead>\n  <tbody>\n    <tr>\n      <th>1</th>\n      <td>1</td>\n      <td>3</td>\n      <td>3</td>\n      <td>0</td>\n      <td>0</td>\n      <td>0</td>\n      <td>0</td>\n      <td>1</td>\n      <td>40</td>\n    </tr>\n    <tr>\n      <th>2</th>\n      <td>2</td>\n      <td>1</td>\n      <td>0</td>\n      <td>0</td>\n      <td>2</td>\n      <td>0</td>\n      <td>0</td>\n      <td>0</td>\n      <td>0</td>\n    </tr>\n    <tr>\n      <th>3</th>\n      <td>2</td>\n      <td>3</td>\n      <td>0</td>\n      <td>4</td>\n      <td>0</td>\n      <td>0</td>\n      <td>0</td>\n      <td>0</td>\n      <td>0</td>\n    </tr>\n    <tr>\n      <th>4</th>\n      <td>2</td>\n      <td>3</td>\n      <td>6</td>\n      <td>0</td>\n      <td>0</td>\n      <td>12</td>\n      <td>0</td>\n      <td>0</td>\n      <td>0</td>\n    </tr>\n  </tbody>\n</table>\n</div>"
     },
     "metadata": {},
     "execution_count": 19
    }
   ],
   "source": [
    "circuito = pd.read_csv('circuito_senoidal.csv', sep=',')\n",
    "\n",
    "#transformando o ramo em índice\n",
    "circuito.set_index('Ramo', drop=True, inplace=True)\n",
    "circuito"
   ]
  },
  {
   "source": [
    "## Matriz Incidência (A)"
   ],
   "cell_type": "markdown",
   "metadata": {}
  },
  {
   "source": [
    "Sabemos que a matriz tem dimensões nxb, aonde n representa a quantidade de nós e b a quantidade de ramos (branchs) "
   ],
   "cell_type": "markdown",
   "metadata": {}
  },
  {
   "cell_type": "code",
   "execution_count": 24,
   "metadata": {},
   "outputs": [],
   "source": [
    "# - Quantos nós e quantos ramos existem no circuito?\n",
    "\n",
    "#criando um dataframe que possui somente os nós\n",
    "nos = circuito[['nó saída', 'nó chegada']]\n",
    "\n",
    "#sabemos que a quantidade de nós vai ser dada pelo máximo número encontrado na tabela \"nos\"\n",
    "quantidade_de_nos = nos.values.max()\n",
    "\n",
    "#a quantidade de ramos é dada pela quantidade de linhas que possuimos na tabela.\n",
    "quantidade_de_ramos = circuito.shape[0] \n",
    "\n",
    "#a matriz de incidencia completa terá dimensões quantidade_de_nos x quantidade_de_ramos\n",
    "incidencia_completa = np.zeros((quantidade_de_nos, quantidade_de_ramos)) #matriz de zeros\n"
   ]
  },
  {
   "source": [
    "Ainda sabemos que como os nossos ramos são grafos orientados, a matriz de incidência terá em uma coluna somente 2 linhas com valores diferente de 0, uma com valor 1 (linha referente ao nó de saída) e outra com valor -1 (linha referente ao nó de chegada)"
   ],
   "cell_type": "markdown",
   "metadata": {}
  },
  {
   "cell_type": "code",
   "execution_count": 27,
   "metadata": {},
   "outputs": [
    {
     "output_type": "execute_result",
     "data": {
      "text/plain": [
       "array([[ 1., -1.,  0.,  0.],\n",
       "       [ 0.,  1.,  1.,  1.],\n",
       "       [-1.,  0., -1., -1.]])"
      ]
     },
     "metadata": {},
     "execution_count": 27
    }
   ],
   "source": [
    "#Além disso terá 1 quando a corrente tiver saindo do nó e -1 quando estiver chegando\n",
    "for ramo in range(quantidade_de_ramos): \n",
    "    #contando o nó a partir do zero\n",
    "    no_de_saida = nos['nó saída'][ramo+1] - 1 # -1 dado que arrays indexa a partir do 0\n",
    "    no_de_chegada =  nos['nó chegada'][ramo+1] - 1 \n",
    "\n",
    "    #a matriz tem 1 na linha do nó de saida, coluna do ramo \n",
    "    incidencia_completa[no_de_saida,ramo] = 1\n",
    "#a matriz tem -1 na linha do nó de chegada, coluna do ramo\n",
    "    incidencia_completa[no_de_chegada, ramo] = -1\n",
    "\n",
    "incidencia_completa"
   ]
  },
  {
   "source": [
    "Porém, sabemos que a matriz de incidência é linearmente dependente, então não precisamos usar todas as linhas da matriz, podemos alcançar todos os resultados desejados com a matriz de incidência reduzida (retirando a última linha)"
   ],
   "cell_type": "markdown",
   "metadata": {}
  },
  {
   "cell_type": "code",
   "execution_count": 29,
   "metadata": {},
   "outputs": [
    {
     "output_type": "execute_result",
     "data": {
      "text/plain": [
       "array([[ 1., -1.,  0.,  0.],\n",
       "       [ 0.,  1.,  1.,  1.]])"
      ]
     },
     "metadata": {},
     "execution_count": 29
    }
   ],
   "source": [
    "# \"A\" será a matriz de incidência reduzida. Iremos retirar a última linha da incidencia_completa\n",
    "A = incidencia_completa[:-1,:]\n",
    "A"
   ]
  },
  {
   "cell_type": "code",
   "execution_count": 30,
   "metadata": {},
   "outputs": [
    {
     "output_type": "execute_result",
     "data": {
      "text/plain": [
       "array([[ 1.,  0.],\n",
       "       [-1.,  1.],\n",
       "       [ 0.,  1.],\n",
       "       [ 0.,  1.]])"
      ]
     },
     "metadata": {},
     "execution_count": 30
    }
   ],
   "source": [
    "#a transpota da matriz de incidência reduzida:\n",
    "A.T"
   ]
  },
  {
   "source": [
    "## Matriz admitância (Yb)"
   ],
   "cell_type": "markdown",
   "metadata": {}
  },
  {
   "source": [
    "#### Para calcular a matriz de admitância vamos realizar os seguintes passos:\n",
    "1. Montar uma tabela com as reatâncias resultantes de cada ramo \n",
    "2. Aplicar a função inversa e obter as admitâncias resultantes de cada ramo\n",
    "3. Montar a matriz diagonal \"Yb\" a partir da tabela construída"
   ],
   "cell_type": "markdown",
   "metadata": {}
  },
  {
   "cell_type": "code",
   "execution_count": 36,
   "metadata": {},
   "outputs": [
    {
     "output_type": "execute_result",
     "data": {
      "text/plain": [
       "Ramo\n",
       "1    3.000000+0.000000j\n",
       "2    0.000000+2.000000j\n",
       "3    0.000000-4.000000j\n",
       "4    6.000000+0.000000j\n",
       "dtype: complex128"
      ]
     },
     "metadata": {},
     "execution_count": 36
    }
   ],
   "source": [
    "#Temos que a reatância de cada ramo pode ser calculada da seguinte forma:\n",
    "R = circuito['R(Ohm)']\n",
    "Xc = circuito['Xc(Ohm)']\n",
    "Xl = circuito['Xl(Ohm)']\n",
    "Zeq = R + 1j*(Xc - Xl)\n",
    "\n",
    "Zeq"
   ]
  },
  {
   "cell_type": "code",
   "execution_count": 41,
   "metadata": {},
   "outputs": [
    {
     "output_type": "execute_result",
     "data": {
      "text/plain": [
       "Ramo\n",
       "1    0.333333+0.000000j\n",
       "2    0.000000-0.500000j\n",
       "3   -0.000000+0.250000j\n",
       "4    0.166667+0.000000j\n",
       "dtype: complex128"
      ]
     },
     "metadata": {},
     "execution_count": 41
    }
   ],
   "source": [
    "#Então a admitância:\n",
    "Yeq = 1/Zeq\n",
    "Yeq"
   ]
  },
  {
   "cell_type": "code",
   "execution_count": 45,
   "metadata": {},
   "outputs": [
    {
     "output_type": "stream",
     "name": "stdout",
     "text": [
      "[[ 0.33333333+0.j    0.        +0.j    0.        +0.j    0.        +0.j  ]\n [ 0.        +0.j    0.        -0.5j   0.        +0.j    0.        +0.j  ]\n [ 0.        +0.j    0.        +0.j   -0.        +0.25j  0.        +0.j  ]\n [ 0.        +0.j    0.        +0.j    0.        +0.j    0.16666667+0.j  ]]\n"
     ]
    }
   ],
   "source": [
    "Yb = np.diag(Yeq)\n",
    "#apresentando de forma mais legível\n",
    "print(Yb, sep='\\n')"
   ]
  }
 ]
}