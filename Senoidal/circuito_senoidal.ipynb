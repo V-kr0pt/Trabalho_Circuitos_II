{
  "nbformat": 4,
  "nbformat_minor": 0,
  "metadata": {
    "language_info": {
      "codemirror_mode": {
        "name": "ipython",
        "version": 3
      },
      "file_extension": ".py",
      "mimetype": "text/x-python",
      "name": "python",
      "nbconvert_exporter": "python",
      "pygments_lexer": "ipython3",
      "version": "3.8.3-final"
    },
    "orig_nbformat": 2,
    "kernelspec": {
      "name": "python3",
      "display_name": "Python 3",
      "language": "python"
    },
    "colab": {
      "name": "circuito_senoidal.ipynb",
      "provenance": [],
      "collapsed_sections": [],
      "include_colab_link": true
    }
  },
  "cells": [
    {
      "cell_type": "markdown",
      "metadata": {
        "id": "view-in-github",
        "colab_type": "text"
      },
      "source": [
        "<a href=\"https://colab.research.google.com/github/V-kr0pt/Trabalho_Circuitos_II/blob/master/Senoidal/circuito_senoidal.ipynb\" target=\"_parent\"><img src=\"https://colab.research.google.com/assets/colab-badge.svg\" alt=\"Open In Colab\"/></a>"
      ]
    },
    {
      "cell_type": "code",
      "metadata": {
        "id": "qLNpvHY9OSz_"
      },
      "source": [
        "import pandas as pd \n",
        "import numpy as np\n",
        "import matplotlib.pyplot as plt"
      ],
      "execution_count": null,
      "outputs": []
    },
    {
      "cell_type": "code",
      "metadata": {
        "id": "-EgqwPigOS0K",
        "colab": {
          "base_uri": "https://localhost:8080/",
          "height": 175
        },
        "outputId": "50f63587-6fa8-4bbd-81d4-788ee724c658"
      },
      "source": [
        "url = 'https://raw.githubusercontent.com/V-kr0pt/Trabalho_Circuitos_II/master/Senoidal/tabela_de_entrada%20_senoidal.csv'\n",
        "\n",
        "circuito = pd.read_csv(url, sep=',')\n",
        "\n",
        "#retirando colunas desnecessárias para o código\n",
        "circuito.drop(columns='Tipo_Fonte_de_Tensão', axis=1, inplace=True ) \n",
        "#transformando o ramo em índice\n",
        "circuito.set_index('Ramo', drop=True, inplace=True)\n",
        "circuito"
      ],
      "execution_count": null,
      "outputs": [
        {
          "output_type": "execute_result",
          "data": {
            "text/html": [
              "<div>\n",
              "<style scoped>\n",
              "    .dataframe tbody tr th:only-of-type {\n",
              "        vertical-align: middle;\n",
              "    }\n",
              "\n",
              "    .dataframe tbody tr th {\n",
              "        vertical-align: top;\n",
              "    }\n",
              "\n",
              "    .dataframe thead th {\n",
              "        text-align: right;\n",
              "    }\n",
              "</style>\n",
              "<table border=\"1\" class=\"dataframe\">\n",
              "  <thead>\n",
              "    <tr style=\"text-align: right;\">\n",
              "      <th></th>\n",
              "      <th>nó saída</th>\n",
              "      <th>nó chegada</th>\n",
              "      <th>R(Ohm)</th>\n",
              "      <th>L(H)</th>\n",
              "      <th>I0(A)</th>\n",
              "      <th>C(F)</th>\n",
              "      <th>V0(V)</th>\n",
              "      <th>Vind(V)</th>\n",
              "      <th>Fase_V(rad)</th>\n",
              "      <th>Iind(A)</th>\n",
              "      <th>Fase_I(rad)</th>\n",
              "      <th>W(rad/s)</th>\n",
              "    </tr>\n",
              "    <tr>\n",
              "      <th>Ramo</th>\n",
              "      <th></th>\n",
              "      <th></th>\n",
              "      <th></th>\n",
              "      <th></th>\n",
              "      <th></th>\n",
              "      <th></th>\n",
              "      <th></th>\n",
              "      <th></th>\n",
              "      <th></th>\n",
              "      <th></th>\n",
              "      <th></th>\n",
              "      <th></th>\n",
              "    </tr>\n",
              "  </thead>\n",
              "  <tbody>\n",
              "    <tr>\n",
              "      <th>1</th>\n",
              "      <td>1</td>\n",
              "      <td>2</td>\n",
              "      <td>10</td>\n",
              "      <td>0.001</td>\n",
              "      <td>0</td>\n",
              "      <td>0.00000</td>\n",
              "      <td>0</td>\n",
              "      <td>100</td>\n",
              "      <td>0</td>\n",
              "      <td>0</td>\n",
              "      <td>0</td>\n",
              "      <td>500</td>\n",
              "    </tr>\n",
              "    <tr>\n",
              "      <th>2</th>\n",
              "      <td>1</td>\n",
              "      <td>2</td>\n",
              "      <td>0</td>\n",
              "      <td>0.000</td>\n",
              "      <td>0</td>\n",
              "      <td>0.00001</td>\n",
              "      <td>0</td>\n",
              "      <td>0</td>\n",
              "      <td>0</td>\n",
              "      <td>0</td>\n",
              "      <td>0</td>\n",
              "      <td>0</td>\n",
              "    </tr>\n",
              "    <tr>\n",
              "      <th>3</th>\n",
              "      <td>1</td>\n",
              "      <td>2</td>\n",
              "      <td>10</td>\n",
              "      <td>0.001</td>\n",
              "      <td>0</td>\n",
              "      <td>0.00000</td>\n",
              "      <td>0</td>\n",
              "      <td>0</td>\n",
              "      <td>0</td>\n",
              "      <td>0</td>\n",
              "      <td>0</td>\n",
              "      <td>0</td>\n",
              "    </tr>\n",
              "  </tbody>\n",
              "</table>\n",
              "</div>"
            ],
            "text/plain": [
              "      nó saída  nó chegada  R(Ohm)  ...  Iind(A)  Fase_I(rad)  W(rad/s)\n",
              "Ramo                                ...                                \n",
              "1            1           2      10  ...        0            0       500\n",
              "2            1           2       0  ...        0            0         0\n",
              "3            1           2      10  ...        0            0         0\n",
              "\n",
              "[3 rows x 12 columns]"
            ]
          },
          "metadata": {
            "tags": []
          },
          "execution_count": 105
        }
      ]
    },
    {
      "cell_type": "markdown",
      "metadata": {
        "id": "32pqUu6Qn2fO"
      },
      "source": [
        "Salvando a frequência na variável \"w\""
      ]
    },
    {
      "cell_type": "code",
      "metadata": {
        "colab": {
          "base_uri": "https://localhost:8080/"
        },
        "id": "0oUe9udnnfaP",
        "outputId": "ae4e0bca-05d0-492a-b156-9bd3b9c067f6"
      },
      "source": [
        "w = circuito['W(rad/s)'][1]\r\n",
        "w"
      ],
      "execution_count": null,
      "outputs": [
        {
          "output_type": "execute_result",
          "data": {
            "text/plain": [
              "500"
            ]
          },
          "metadata": {
            "tags": []
          },
          "execution_count": 106
        }
      ]
    },
    {
      "cell_type": "markdown",
      "metadata": {
        "id": "QIsp2psAOS0M"
      },
      "source": [
        "## Matriz Incidência (A)"
      ]
    },
    {
      "cell_type": "markdown",
      "metadata": {
        "id": "z19cylIdOS0O"
      },
      "source": [
        "Sabemos que a matriz tem dimensões nxb, aonde n representa a quantidade de nós e b a quantidade de ramos (branches) "
      ]
    },
    {
      "cell_type": "code",
      "metadata": {
        "id": "s2K5xCDzOS0P",
        "colab": {
          "base_uri": "https://localhost:8080/"
        },
        "outputId": "b2b954d0-a691-406b-9ef3-b6d7d7d7033a"
      },
      "source": [
        "# - Quantos nós e quantos ramos existem no circuito?\n",
        "\n",
        "#criando um dataframe que possui somente os nós\n",
        "nos = circuito[['nó saída', 'nó chegada']]\n",
        "\n",
        "#sabemos que a quantidade de nós vai ser dada pelo máximo número encontrado na tabela \"nos\"\n",
        "quantidade_de_nos = nos.values.max()\n",
        "\n",
        "#a quantidade de ramos é dada pela quantidade de linhas que possuimos na tabela.\n",
        "quantidade_de_ramos = circuito.shape[0] \n",
        "\n",
        "#a matriz de incidencia completa terá dimensões quantidade_de_nos x quantidade_de_ramos\n",
        "incidencia_completa = np.zeros((quantidade_de_nos, quantidade_de_ramos)) #matriz de zeros\n",
        "incidencia_completa\n"
      ],
      "execution_count": null,
      "outputs": [
        {
          "output_type": "execute_result",
          "data": {
            "text/plain": [
              "array([[0., 0., 0.],\n",
              "       [0., 0., 0.]])"
            ]
          },
          "metadata": {
            "tags": []
          },
          "execution_count": 107
        }
      ]
    },
    {
      "cell_type": "markdown",
      "metadata": {
        "id": "J6Xm_jYiOS0Q"
      },
      "source": [
        "Ainda sabemos que como os nossos ramos são grafos orientados, a matriz de incidência terá em uma coluna somente 2 linhas com valores diferente de 0, uma com valor 1 (linha referente ao nó de saída) e outra com valor -1 (linha referente ao nó de chegada)"
      ]
    },
    {
      "cell_type": "code",
      "metadata": {
        "id": "mPQ3TOZrOS0R",
        "colab": {
          "base_uri": "https://localhost:8080/"
        },
        "outputId": "e2475a0b-888e-43a4-9347-d9e6c56c2390"
      },
      "source": [
        "#Além disso terá 1 quando a corrente tiver saindo do nó e -1 quando estiver chegando\n",
        "for ramo in range(quantidade_de_ramos): \n",
        "    #contando o nó a partir do zero\n",
        "    no_de_saida = nos['nó saída'][ramo+1] - 1 # -1 dado que arrays indexa a partir do 0\n",
        "    no_de_chegada =  nos['nó chegada'][ramo+1] - 1 \n",
        "\n",
        "    #a matriz tem 1 na linha do nó de saida, coluna do ramo \n",
        "    incidencia_completa[no_de_saida,ramo] = 1\n",
        "#a matriz tem -1 na linha do nó de chegada, coluna do ramo\n",
        "    incidencia_completa[no_de_chegada, ramo] = -1\n",
        "\n",
        "incidencia_completa"
      ],
      "execution_count": null,
      "outputs": [
        {
          "output_type": "execute_result",
          "data": {
            "text/plain": [
              "array([[ 1.,  1.,  1.],\n",
              "       [-1., -1., -1.]])"
            ]
          },
          "metadata": {
            "tags": []
          },
          "execution_count": 108
        }
      ]
    },
    {
      "cell_type": "markdown",
      "metadata": {
        "id": "NuAARG1dOS0S"
      },
      "source": [
        "Porém, sabemos que a matriz de incidência é linearmente dependente, então não precisamos usar todas as linhas da matriz, podemos alcançar todos os resultados desejados com a matriz de incidência reduzida (retirando a última linha)"
      ]
    },
    {
      "cell_type": "code",
      "metadata": {
        "id": "E72kly5COS0S",
        "colab": {
          "base_uri": "https://localhost:8080/"
        },
        "outputId": "bbbe8d24-32a3-45b9-8b9a-ea3313f91a38"
      },
      "source": [
        "# \"A\" será a matriz de incidência reduzida. Iremos retirar a última linha da incidencia_completa\n",
        "A = incidencia_completa[:-1,:]\n",
        "A"
      ],
      "execution_count": null,
      "outputs": [
        {
          "output_type": "execute_result",
          "data": {
            "text/plain": [
              "array([[1., 1., 1.]])"
            ]
          },
          "metadata": {
            "tags": []
          },
          "execution_count": 109
        }
      ]
    },
    {
      "cell_type": "code",
      "metadata": {
        "id": "p1B3MplnOS0T",
        "colab": {
          "base_uri": "https://localhost:8080/"
        },
        "outputId": "18289206-7cf6-4df7-b909-71016561fb14"
      },
      "source": [
        "#a transpota da matriz de incidência reduzida:\n",
        "A.T"
      ],
      "execution_count": null,
      "outputs": [
        {
          "output_type": "execute_result",
          "data": {
            "text/plain": [
              "array([[1.],\n",
              "       [1.],\n",
              "       [1.]])"
            ]
          },
          "metadata": {
            "tags": []
          },
          "execution_count": 110
        }
      ]
    },
    {
      "cell_type": "markdown",
      "metadata": {
        "id": "f6vIWmneOS0V"
      },
      "source": [
        "## Matriz admitância (Yb)"
      ]
    },
    {
      "cell_type": "markdown",
      "metadata": {
        "id": "KcBBQ8IxOS0W"
      },
      "source": [
        "#### Para calcular a matriz de admitância vamos realizar os seguintes passos:\n",
        "1. Montar uma tabela com as reatâncias resultantes de cada ramo \n",
        "2. Aplicar a função inversa e obter as admitâncias resultantes de cada ramo\n",
        "3. Montar a matriz diagonal \"Yb\" a partir da tabela construída"
      ]
    },
    {
      "cell_type": "code",
      "metadata": {
        "id": "brUQr0H1OS0W",
        "colab": {
          "base_uri": "https://localhost:8080/"
        },
        "outputId": "b33a0da9-f7c2-4ab2-c8c8-4090ad70f61a"
      },
      "source": [
        "#Temos que a reatância de cada ramo pode ser calculada da seguinte forma:\n",
        "R = circuito['R(Ohm)']\n",
        "C = circuito['C(F)']\n",
        "L = circuito['L(H)']\n",
        "#No domínio fasorial\n",
        "Xl = w*L\n",
        "Xc = 1/(w*C)\n",
        "Xc.replace(np.inf, 0, inplace=True)\n",
        "\n",
        "Zeq = R + 1j*(Xl - Xc)\n",
        "\n",
        "Zeq"
      ],
      "execution_count": null,
      "outputs": [
        {
          "output_type": "execute_result",
          "data": {
            "text/plain": [
              "Ramo\n",
              "1     10.000000+0.500000j\n",
              "2    0.000000-200.000000j\n",
              "3     10.000000+0.500000j\n",
              "dtype: complex128"
            ]
          },
          "metadata": {
            "tags": []
          },
          "execution_count": 111
        }
      ]
    },
    {
      "cell_type": "code",
      "metadata": {
        "id": "NvfAQekWOS0X",
        "colab": {
          "base_uri": "https://localhost:8080/"
        },
        "outputId": "c250bbc4-29e0-4451-8022-e3c859d97319"
      },
      "source": [
        "#Então a admitância:\n",
        "Yeq = 1/Zeq\n",
        "Yeq"
      ],
      "execution_count": null,
      "outputs": [
        {
          "output_type": "execute_result",
          "data": {
            "text/plain": [
              "Ramo\n",
              "1    0.099751-0.004988j\n",
              "2   -0.000000+0.005000j\n",
              "3    0.099751-0.004988j\n",
              "dtype: complex128"
            ]
          },
          "metadata": {
            "tags": []
          },
          "execution_count": 112
        }
      ]
    },
    {
      "cell_type": "code",
      "metadata": {
        "id": "t1nEeeWOOS0X",
        "colab": {
          "base_uri": "https://localhost:8080/"
        },
        "outputId": "53bd4131-a133-4d8c-ccab-14db90f3a205"
      },
      "source": [
        "Yb = np.diag(Yeq)\n",
        "#apresentando de forma mais legível\n",
        "print(Yb, sep='\\n')"
      ],
      "execution_count": null,
      "outputs": [
        {
          "output_type": "stream",
          "text": [
            "[[ 0.09975062-0.00498753j  0.        +0.j          0.        +0.j        ]\n",
            " [ 0.        +0.j         -0.        +0.005j       0.        +0.j        ]\n",
            " [ 0.        +0.j          0.        +0.j          0.09975062-0.00498753j]]\n"
          ],
          "name": "stdout"
        }
      ]
    },
    {
      "cell_type": "markdown",
      "metadata": {
        "id": "H0VVKa3rOS0Y"
      },
      "source": [
        "## Matriz admitância de nós (Yn)"
      ]
    },
    {
      "cell_type": "code",
      "metadata": {
        "id": "OHp8kGzuOS0Z",
        "colab": {
          "base_uri": "https://localhost:8080/"
        },
        "outputId": "a609c72a-b889-42d8-a331-3df092212ba1"
      },
      "source": [
        "# A matriz admitância de nós é dada pela seguinte expressão:\n",
        "# Yn = A*Yb*A.T\n",
        "Yn = np.dot(A.dot(Yb),A.T)\n",
        "Yn"
      ],
      "execution_count": null,
      "outputs": [
        {
          "output_type": "execute_result",
          "data": {
            "text/plain": [
              "array([[0.19950125-0.00497506j]])"
            ]
          },
          "metadata": {
            "tags": []
          },
          "execution_count": 114
        }
      ]
    },
    {
      "cell_type": "markdown",
      "metadata": {
        "id": "XzH43ILkOS0Z"
      },
      "source": [
        "## Fontes Independentes  "
      ]
    },
    {
      "cell_type": "markdown",
      "metadata": {
        "id": "32nFbVRaOS0Z"
      },
      "source": [
        "### Fontes Independentes de Tensão"
      ]
    },
    {
      "cell_type": "code",
      "metadata": {
        "id": "Xc6Qzs-5OS0Z",
        "colab": {
          "base_uri": "https://localhost:8080/"
        },
        "outputId": "c1b182fa-91e8-43f3-9e46-8919de5e1dd5"
      },
      "source": [
        "#O usuário irá fornecer o fasor das fontes, \n",
        "#então iremos primeiro criar uma tabela com a representação cartesiana\n",
        "\n",
        "#Para fonte de tensão:\n",
        "modulo_V = circuito['Vind(V)']\n",
        "fase_V = circuito['Fase_V(rad)']\n",
        "Vs = modulo_V*(np.cos(fase_V) + 1j*np.sin(fase_V))\n",
        "Vs"
      ],
      "execution_count": null,
      "outputs": [
        {
          "output_type": "execute_result",
          "data": {
            "text/plain": [
              "Ramo\n",
              "1    100.000000+0.000000j\n",
              "2      0.000000+0.000000j\n",
              "3      0.000000+0.000000j\n",
              "dtype: complex128"
            ]
          },
          "metadata": {
            "tags": []
          },
          "execution_count": 115
        }
      ]
    },
    {
      "cell_type": "markdown",
      "metadata": {
        "id": "F1zuZsTLOS0a"
      },
      "source": [
        "### Fontes Independentes de Corrente"
      ]
    },
    {
      "cell_type": "code",
      "metadata": {
        "id": "YoQDJPVlOS0a",
        "colab": {
          "base_uri": "https://localhost:8080/"
        },
        "outputId": "d79b2d57-15b0-4c83-a198-c7188aa4ca82"
      },
      "source": [
        "#Para fonte de corrente:\n",
        "modulo_I = circuito['Iind(A)']\n",
        "fase_I = circuito['Fase_I(rad)']\n",
        "Js = modulo_I*(np.cos(fase_I) + 1j*np.sin(fase_I))\n",
        "Js"
      ],
      "execution_count": null,
      "outputs": [
        {
          "output_type": "execute_result",
          "data": {
            "text/plain": [
              "Ramo\n",
              "1    0.000000+0.000000j\n",
              "2    0.000000+0.000000j\n",
              "3    0.000000+0.000000j\n",
              "dtype: complex128"
            ]
          },
          "metadata": {
            "tags": []
          },
          "execution_count": 116
        }
      ]
    },
    {
      "cell_type": "markdown",
      "metadata": {
        "id": "9n9WWRUzOS0b"
      },
      "source": [
        "### Cálculo de Is"
      ]
    },
    {
      "cell_type": "code",
      "metadata": {
        "id": "vUrkxe1tOS0b",
        "colab": {
          "base_uri": "https://localhost:8080/"
        },
        "outputId": "8f9a2102-101f-4191-896d-619fb12d99ff"
      },
      "source": [
        "# A matriz Is é dada pela seguinte expressão:\n",
        "# Is = A*Yb*Vs - A*Js\n",
        "Is = np.dot(A.dot(Yb), Vs) - np.dot(A, Js)\n",
        "Is"
      ],
      "execution_count": null,
      "outputs": [
        {
          "output_type": "execute_result",
          "data": {
            "text/plain": [
              "array([9.97506234-0.49875312j])"
            ]
          },
          "metadata": {
            "tags": []
          },
          "execution_count": 117
        }
      ]
    },
    {
      "cell_type": "markdown",
      "metadata": {
        "id": "OVaHuw0cOS0b"
      },
      "source": [
        "### Cálculo da tensão de nó"
      ]
    },
    {
      "cell_type": "code",
      "metadata": {
        "id": "U4BLEcoCOS0b",
        "colab": {
          "base_uri": "https://localhost:8080/"
        },
        "outputId": "8f435d26-6535-448e-d5dd-407c7dd05435"
      },
      "source": [
        "# E = Yn^-1 * Is\n",
        "Yn_inv = np.linalg.inv(Yn)  \n",
        "E = Yn_inv.dot(Is)\n",
        "E "
      ],
      "execution_count": null,
      "outputs": [
        {
          "output_type": "execute_result",
          "data": {
            "text/plain": [
              "array([50.03123038-1.25234619j])"
            ]
          },
          "metadata": {
            "tags": []
          },
          "execution_count": 118
        }
      ]
    },
    {
      "cell_type": "markdown",
      "metadata": {
        "id": "NuqywoKZOS0c"
      },
      "source": [
        "### Cálculo de tensão de ramo"
      ]
    },
    {
      "cell_type": "code",
      "metadata": {
        "id": "aIiL8UvbOS0c",
        "colab": {
          "base_uri": "https://localhost:8080/"
        },
        "outputId": "bac4cdca-d5f0-451f-d7c3-c33420195373"
      },
      "source": [
        "# V = A^T * E\n",
        "V = np.dot(A.T, E)\n",
        "V  "
      ],
      "execution_count": null,
      "outputs": [
        {
          "output_type": "execute_result",
          "data": {
            "text/plain": [
              "array([50.03123038-1.25234619j, 50.03123038-1.25234619j,\n",
              "       50.03123038-1.25234619j])"
            ]
          },
          "metadata": {
            "tags": []
          },
          "execution_count": 119
        }
      ]
    },
    {
      "cell_type": "markdown",
      "metadata": {
        "id": "2JC7uTAFOS0d"
      },
      "source": [
        "### Cálculo de corrente de ramo"
      ]
    },
    {
      "cell_type": "code",
      "metadata": {
        "id": "WreeZVXqOS0d",
        "colab": {
          "base_uri": "https://localhost:8080/"
        },
        "outputId": "30744e75-9f09-41f5-fad3-31a268028dcf"
      },
      "source": [
        "# J = Js + Yb * V - Yb * Vs\n",
        "J = Js.values + np.dot(Yb,V) - np.dot(Yb, Vs)\n",
        "J"
      ],
      "execution_count": null,
      "outputs": [
        {
          "output_type": "execute_result",
          "data": {
            "text/plain": [
              "array([-4.99066204+0.12429848j,  0.00626173+0.25015615j,\n",
              "        4.98440031-0.37445463j])"
            ]
          },
          "metadata": {
            "tags": []
          },
          "execution_count": 120
        }
      ]
    },
    {
      "cell_type": "markdown",
      "metadata": {
        "id": "TKO97LLGOS0d"
      },
      "source": [
        "## Tabela de Saída"
      ]
    },
    {
      "cell_type": "code",
      "metadata": {
        "id": "OMjNzJI4OS0d",
        "colab": {
          "base_uri": "https://localhost:8080/",
          "height": 49
        },
        "outputId": "24142619-8a39-4982-b063-5a5ab5275f3d"
      },
      "source": [
        "df_saida = pd.DataFrame(columns=[\"Tensão de Ramo (V)\", \"Corrente de Ramo (A)\"])\n",
        "\n",
        "df_saida"
      ],
      "execution_count": null,
      "outputs": [
        {
          "output_type": "execute_result",
          "data": {
            "text/html": [
              "<div>\n",
              "<style scoped>\n",
              "    .dataframe tbody tr th:only-of-type {\n",
              "        vertical-align: middle;\n",
              "    }\n",
              "\n",
              "    .dataframe tbody tr th {\n",
              "        vertical-align: top;\n",
              "    }\n",
              "\n",
              "    .dataframe thead th {\n",
              "        text-align: right;\n",
              "    }\n",
              "</style>\n",
              "<table border=\"1\" class=\"dataframe\">\n",
              "  <thead>\n",
              "    <tr style=\"text-align: right;\">\n",
              "      <th></th>\n",
              "      <th>Tensão de Ramo (V)</th>\n",
              "      <th>Corrente de Ramo (A)</th>\n",
              "    </tr>\n",
              "  </thead>\n",
              "  <tbody>\n",
              "  </tbody>\n",
              "</table>\n",
              "</div>"
            ],
            "text/plain": [
              "Empty DataFrame\n",
              "Columns: [Tensão de Ramo (V), Corrente de Ramo (A)]\n",
              "Index: []"
            ]
          },
          "metadata": {
            "tags": []
          },
          "execution_count": 121
        }
      ]
    },
    {
      "cell_type": "code",
      "metadata": {
        "id": "APRNEDNAOS0e",
        "colab": {
          "base_uri": "https://localhost:8080/",
          "height": 81
        },
        "outputId": "92229eb1-6353-4df9-af81-f1cd06fd6ab4"
      },
      "source": [
        "df_saida_no = pd.DataFrame(columns=['Tensão de Nó (V)'])\n",
        "df_saida_no['Tensão de Nó (V)'] = E\n",
        "df_saida_no"
      ],
      "execution_count": null,
      "outputs": [
        {
          "output_type": "execute_result",
          "data": {
            "text/html": [
              "<div>\n",
              "<style scoped>\n",
              "    .dataframe tbody tr th:only-of-type {\n",
              "        vertical-align: middle;\n",
              "    }\n",
              "\n",
              "    .dataframe tbody tr th {\n",
              "        vertical-align: top;\n",
              "    }\n",
              "\n",
              "    .dataframe thead th {\n",
              "        text-align: right;\n",
              "    }\n",
              "</style>\n",
              "<table border=\"1\" class=\"dataframe\">\n",
              "  <thead>\n",
              "    <tr style=\"text-align: right;\">\n",
              "      <th></th>\n",
              "      <th>Tensão de Nó (V)</th>\n",
              "    </tr>\n",
              "  </thead>\n",
              "  <tbody>\n",
              "    <tr>\n",
              "      <th>0</th>\n",
              "      <td>50.031230-1.252346j</td>\n",
              "    </tr>\n",
              "  </tbody>\n",
              "</table>\n",
              "</div>"
            ],
            "text/plain": [
              "      Tensão de Nó (V)\n",
              "0  50.031230-1.252346j"
            ]
          },
          "metadata": {
            "tags": []
          },
          "execution_count": 122
        }
      ]
    },
    {
      "cell_type": "code",
      "metadata": {
        "id": "OCmmh1YcOS0f",
        "colab": {
          "base_uri": "https://localhost:8080/",
          "height": 175
        },
        "outputId": "21cbda21-3fee-4d98-d19a-0bed202a803a"
      },
      "source": [
        "df_saida['Tensão de Ramo (V)'] = V\n",
        "df_saida['Corrente de Ramo (A)'] = J\n",
        "df_saida['Tensão de Nó (V)'] = df_saida_no\n",
        "df_saida.set_index([circuito.index], inplace=True)\n",
        "\n",
        "df_saida"
      ],
      "execution_count": null,
      "outputs": [
        {
          "output_type": "execute_result",
          "data": {
            "text/html": [
              "<div>\n",
              "<style scoped>\n",
              "    .dataframe tbody tr th:only-of-type {\n",
              "        vertical-align: middle;\n",
              "    }\n",
              "\n",
              "    .dataframe tbody tr th {\n",
              "        vertical-align: top;\n",
              "    }\n",
              "\n",
              "    .dataframe thead th {\n",
              "        text-align: right;\n",
              "    }\n",
              "</style>\n",
              "<table border=\"1\" class=\"dataframe\">\n",
              "  <thead>\n",
              "    <tr style=\"text-align: right;\">\n",
              "      <th></th>\n",
              "      <th>Tensão de Ramo (V)</th>\n",
              "      <th>Corrente de Ramo (A)</th>\n",
              "      <th>Tensão de Nó (V)</th>\n",
              "    </tr>\n",
              "    <tr>\n",
              "      <th>Ramo</th>\n",
              "      <th></th>\n",
              "      <th></th>\n",
              "      <th></th>\n",
              "    </tr>\n",
              "  </thead>\n",
              "  <tbody>\n",
              "    <tr>\n",
              "      <th>1</th>\n",
              "      <td>50.031230-1.252346j</td>\n",
              "      <td>-4.990662+0.124298j</td>\n",
              "      <td>50.031230-1.252346j</td>\n",
              "    </tr>\n",
              "    <tr>\n",
              "      <th>2</th>\n",
              "      <td>50.031230-1.252346j</td>\n",
              "      <td>0.006262+0.250156j</td>\n",
              "      <td>NaN</td>\n",
              "    </tr>\n",
              "    <tr>\n",
              "      <th>3</th>\n",
              "      <td>50.031230-1.252346j</td>\n",
              "      <td>4.984400-0.374455j</td>\n",
              "      <td>NaN</td>\n",
              "    </tr>\n",
              "  </tbody>\n",
              "</table>\n",
              "</div>"
            ],
            "text/plain": [
              "       Tensão de Ramo (V)  Corrente de Ramo (A)     Tensão de Nó (V)\n",
              "Ramo                                                                \n",
              "1     50.031230-1.252346j   -4.990662+0.124298j  50.031230-1.252346j\n",
              "2     50.031230-1.252346j    0.006262+0.250156j                  NaN\n",
              "3     50.031230-1.252346j    4.984400-0.374455j                  NaN"
            ]
          },
          "metadata": {
            "tags": []
          },
          "execution_count": 123
        }
      ]
    },
    {
      "cell_type": "markdown",
      "metadata": {
        "id": "4cXIKgC3OS0f"
      },
      "source": [
        "#### Arquivo de saída"
      ]
    },
    {
      "cell_type": "code",
      "metadata": {
        "id": "CJCTCrV5OS0f"
      },
      "source": [
        "df_saida.to_csv('saida_senoidal.csv')"
      ],
      "execution_count": null,
      "outputs": []
    },
    {
      "cell_type": "markdown",
      "metadata": {
        "id": "YKOm8rblPEv4"
      },
      "source": [
        "### Gráfico! "
      ]
    },
    {
      "cell_type": "code",
      "metadata": {
        "id": "_FLRON6tO7GW",
        "colab": {
          "base_uri": "https://localhost:8080/",
          "height": 632
        },
        "outputId": "ea72cfb9-e0a4-4221-e610-44f48649c086"
      },
      "source": [
        "#definindo o tempo\r\n",
        "qtd_de_pontos = 10**3\r\n",
        "tmax = 40e-3\r\n",
        "t = np.linspace(0,tmax,qtd_de_pontos)\r\n",
        "\r\n",
        "#corrente de ramo fasorial:\r\n",
        "corrente_ramo_modulo = np.abs(df_saida['Corrente de Ramo (A)'].values)\r\n",
        "corrente_ramo_fase = np.angle(df_saida['Corrente de Ramo (A)'].values)\r\n",
        "\r\n",
        "#corrente no ramo 3 no tempo:\r\n",
        "corrente_ramo_3 = corrente_ramo_modulo[2] * np.cos(w*t + corrente_ramo_fase[2])\r\n",
        "\r\n",
        "#tensão no resistor\r\n",
        "tensao_no_resistor = 10* corrente_ramo_3 \r\n",
        "#plot\r\n",
        "plt.figure(figsize=(20,10))\r\n",
        "plt.plot(t, tensao_no_resistor)\r\n",
        "plt.xlabel('tempo (s)')\r\n",
        "plt.ylabel('Tensão (V)')\r\n",
        "x = [i/100 for i in range(5)]\r\n",
        "plt.xticks(x, size=15)\r\n",
        "y = [(i-5)*10 for i in range(11)]\r\n",
        "plt.yticks( y, size=15)\r\n",
        "\r\n",
        "plt.title('Tensão no resistor de 10 ohms', size=20)\r\n",
        "plt.grid(True)\r\n"
      ],
      "execution_count": null,
      "outputs": [
        {
          "output_type": "display_data",
          "data": {
            "image/png": "[encoded data removed]",
            "text/plain": [
              "<Figure size 1440x720 with 1 Axes>"
            ]
          },
          "metadata": {
            "tags": [],
            "needs_background": "light"
          }
        }
      ]
    },
    {
      "cell_type": "markdown",
      "metadata": {
        "id": "FY8jVm7ulvuo"
      },
      "source": [
        "Gráfico das Tensões nos Ramos:\r\n"
      ]
    },
    {
      "cell_type": "code",
      "metadata": {
        "id": "tVGVmksGrz8V"
      },
      "source": [
        "tensao_ramo_modulo = np.abs(df_saida['Tensão de Ramo (V)'].values)\r\n",
        "tensao_ramo_fase = np.angle(df_saida['Tensão de Ramo (V)'].values)"
      ],
      "execution_count": null,
      "outputs": []
    },
    {
      "cell_type": "code",
      "metadata": {
        "colab": {
          "base_uri": "https://localhost:8080/",
          "height": 295
        },
        "id": "Do2GnBdPgs8n",
        "outputId": "4a53206d-a037-4875-bb93-66c82c53877b"
      },
      "source": [
        "for ramo in range(quantidade_de_ramos):\r\n",
        "  tensao_ramo = tensao_ramo_modulo[ramo] * np.cos(w*t + tensao_ramo_fase[ramo])\r\n",
        "  plt.plot(t, tensao_ramo, label = f'Ramo:{ramo+1}')\r\n",
        "\r\n",
        "plt.title ('Tensões de Ramo')\r\n",
        "plt.legend()\r\n",
        "plt.xlabel('Tempo (s)')\r\n",
        "plt.ylabel('Tensão (V)')\r\n",
        "plt.grid(True)\r\n"
      ],
      "execution_count": null,
      "outputs": [
        {
          "output_type": "display_data",
          "data": {
            "image/png": "[encoded data removed]",
            "text/plain": [
              "<Figure size 432x288 with 1 Axes>"
            ]
          },
          "metadata": {
            "tags": [],
            "needs_background": "light"
          }
        }
      ]
    },
    {
      "cell_type": "markdown",
      "metadata": {
        "id": "RZD2XbiCl8qO"
      },
      "source": [
        "Gráfico das Correntes\r\n"
      ]
    },
    {
      "cell_type": "code",
      "metadata": {
        "id": "i0DV-vWgmj3z"
      },
      "source": [
        "corrente_ramo_modulo = np.abs(df_saida['Corrente de Ramo (A)'].values)\r\n",
        "corrente_ramo_fase = np.angle(df_saida['Corrente de Ramo (A)'].values)"
      ],
      "execution_count": null,
      "outputs": []
    },
    {
      "cell_type": "code",
      "metadata": {
        "colab": {
          "base_uri": "https://localhost:8080/",
          "height": 295
        },
        "id": "W9GhKNxDmj6g",
        "outputId": "1908c8c7-aef5-4fe6-bd8b-177247516eb6"
      },
      "source": [
        "for ramo in range(quantidade_de_ramos):\r\n",
        "  corrente_ramo = corrente_ramo_modulo[ramo] * np.cos(w*t + corrente_ramo_fase[ramo])\r\n",
        "  plt.plot(t, corrente_ramo, label = f'Ramo:{ramo+1}')\r\n",
        "\r\n",
        "plt.title ('Corrente nos Ramo')\r\n",
        "plt.legend()\r\n",
        "plt.xlabel('Tempo (s)')\r\n",
        "plt.ylabel('Corrente (A)')\r\n",
        "plt.grid(True)"
      ],
      "execution_count": null,
      "outputs": [
        {
          "output_type": "display_data",
          "data": {
            "image/png": "[encoded data removed]",
            "text/plain": [
              "<Figure size 432x288 with 1 Axes>"
            ]
          },
          "metadata": {
            "tags": [],
            "needs_background": "light"
          }
        }
      ]
    },
    {
      "cell_type": "code",
      "metadata": {
        "id": "ETR2CEU3mj9g"
      },
      "source": [
        "tensao_no_modulo = np.abs(df_saida['Tensão de Nó (V)'].values)\r\n",
        "tensao_no_fase = np.angle(df_saida['Tensão de Nó (V)'].values)"
      ],
      "execution_count": null,
      "outputs": []
    },
    {
      "cell_type": "code",
      "metadata": {
        "colab": {
          "base_uri": "https://localhost:8080/",
          "height": 295
        },
        "id": "Nk-tGKeZnnAs",
        "outputId": "eaa8f5c7-8431-487b-919e-27a272be3596"
      },
      "source": [
        "for nos in range(quantidade_de_nos-1):\r\n",
        "   tensao_no = tensao_no_modulo[nos] * np.cos(w*t + tensao_no_fase[nos])\r\n",
        "   plt.plot(t, tensao_no, label = f'Nó:{nos+1}')\r\n",
        "\r\n",
        "plt.title ('Tensões de Nó')\r\n",
        "plt.legend()\r\n",
        "plt.xlabel('Tempo (s)')\r\n",
        "plt.ylabel('Tensão (V)')\r\n",
        "plt.grid(True)"
      ],
      "execution_count": null,
      "outputs": [
        {
          "output_type": "display_data",
          "data": {
            "image/png": "[encoded data removed]",
            "text/plain": [
              "<Figure size 432x288 with 1 Axes>"
            ]
          },
          "metadata": {
            "tags": [],
            "needs_background": "light"
          }
        }
      ]
    }
  ]
}