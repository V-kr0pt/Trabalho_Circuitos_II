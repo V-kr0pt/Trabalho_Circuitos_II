{
  "nbformat": 4,
  "nbformat_minor": 0,
  "metadata": {
    "language_info": {
      "codemirror_mode": {
        "name": "ipython",
        "version": 3
      },
      "file_extension": ".py",
      "mimetype": "text/x-python",
      "name": "python",
      "nbconvert_exporter": "python",
      "pygments_lexer": "ipython3",
      "version": "3.8.3-final"
    },
    "orig_nbformat": 2,
    "kernelspec": {
      "name": "python3",
      "display_name": "Python 3",
      "language": "python"
    },
    "colab": {
      "name": "circuito_senoidal.ipynb",
      "provenance": [],
      "collapsed_sections": [],
      "include_colab_link": true
    }
  },
  "cells": [
    {
      "cell_type": "markdown",
      "metadata": {
        "id": "view-in-github",
        "colab_type": "text"
      },
      "source": [
        "<a href=\"https://colab.research.google.com/github/V-kr0pt/Trabalho_Circuitos_II/blob/master/Senoidal/circuito_senoidal.ipynb\" target=\"_parent\"><img src=\"https://colab.research.google.com/assets/colab-badge.svg\" alt=\"Open In Colab\"/></a>"
      ]
    },
    {
      "cell_type": "code",
      "metadata": {
        "id": "qLNpvHY9OSz_"
      },
      "source": [
        "import pandas as pd \n",
        "import numpy as np\n",
        "import matplotlib.pyplot as plt"
      ],
      "execution_count": 49,
      "outputs": []
    },
    {
      "cell_type": "code",
      "metadata": {
        "id": "-EgqwPigOS0K",
        "colab": {
          "base_uri": "https://localhost:8080/",
          "height": 206
        },
        "outputId": "c5110e31-a34c-41a4-9084-aca4c30398bc"
      },
      "source": [
        "url = 'https://raw.githubusercontent.com/V-kr0pt/Trabalho_Circuitos_II/master/Senoidal/circuito_senoidal.csv'\n",
        "\n",
        "circuito = pd.read_csv(url, sep=',')\n",
        "\n",
        "#transformando o ramo em índice\n",
        "circuito.set_index('Ramo', drop=True, inplace=True)\n",
        "circuito"
      ],
      "execution_count": 50,
      "outputs": [
        {
          "output_type": "execute_result",
          "data": {
            "text/html": [
              "<div>\n",
              "<style scoped>\n",
              "    .dataframe tbody tr th:only-of-type {\n",
              "        vertical-align: middle;\n",
              "    }\n",
              "\n",
              "    .dataframe tbody tr th {\n",
              "        vertical-align: top;\n",
              "    }\n",
              "\n",
              "    .dataframe thead th {\n",
              "        text-align: right;\n",
              "    }\n",
              "</style>\n",
              "<table border=\"1\" class=\"dataframe\">\n",
              "  <thead>\n",
              "    <tr style=\"text-align: right;\">\n",
              "      <th></th>\n",
              "      <th>nó saída</th>\n",
              "      <th>nó chegada</th>\n",
              "      <th>R(Ohm)</th>\n",
              "      <th>Xl(Ohm)</th>\n",
              "      <th>Xc(Ohm)</th>\n",
              "      <th>Vind(V)</th>\n",
              "      <th>Fase_Vind</th>\n",
              "      <th>Iind(A)</th>\n",
              "      <th>Fase_Iind</th>\n",
              "    </tr>\n",
              "    <tr>\n",
              "      <th>Ramo</th>\n",
              "      <th></th>\n",
              "      <th></th>\n",
              "      <th></th>\n",
              "      <th></th>\n",
              "      <th></th>\n",
              "      <th></th>\n",
              "      <th></th>\n",
              "      <th></th>\n",
              "      <th></th>\n",
              "    </tr>\n",
              "  </thead>\n",
              "  <tbody>\n",
              "    <tr>\n",
              "      <th>1</th>\n",
              "      <td>1</td>\n",
              "      <td>3</td>\n",
              "      <td>3</td>\n",
              "      <td>0</td>\n",
              "      <td>0</td>\n",
              "      <td>0</td>\n",
              "      <td>0</td>\n",
              "      <td>1</td>\n",
              "      <td>40</td>\n",
              "    </tr>\n",
              "    <tr>\n",
              "      <th>2</th>\n",
              "      <td>2</td>\n",
              "      <td>1</td>\n",
              "      <td>0</td>\n",
              "      <td>0</td>\n",
              "      <td>2</td>\n",
              "      <td>0</td>\n",
              "      <td>0</td>\n",
              "      <td>0</td>\n",
              "      <td>0</td>\n",
              "    </tr>\n",
              "    <tr>\n",
              "      <th>3</th>\n",
              "      <td>2</td>\n",
              "      <td>3</td>\n",
              "      <td>0</td>\n",
              "      <td>4</td>\n",
              "      <td>0</td>\n",
              "      <td>0</td>\n",
              "      <td>0</td>\n",
              "      <td>0</td>\n",
              "      <td>0</td>\n",
              "    </tr>\n",
              "    <tr>\n",
              "      <th>4</th>\n",
              "      <td>2</td>\n",
              "      <td>3</td>\n",
              "      <td>6</td>\n",
              "      <td>0</td>\n",
              "      <td>0</td>\n",
              "      <td>12</td>\n",
              "      <td>0</td>\n",
              "      <td>0</td>\n",
              "      <td>0</td>\n",
              "    </tr>\n",
              "  </tbody>\n",
              "</table>\n",
              "</div>"
            ],
            "text/plain": [
              "      nó saída  nó chegada  R(Ohm)  ...  Fase_Vind  Iind(A)  Fase_Iind\n",
              "Ramo                                ...                               \n",
              "1            1           3       3  ...          0        1         40\n",
              "2            2           1       0  ...          0        0          0\n",
              "3            2           3       0  ...          0        0          0\n",
              "4            2           3       6  ...          0        0          0\n",
              "\n",
              "[4 rows x 9 columns]"
            ]
          },
          "metadata": {
            "tags": []
          },
          "execution_count": 50
        }
      ]
    },
    {
      "cell_type": "markdown",
      "metadata": {
        "id": "QIsp2psAOS0M"
      },
      "source": [
        "## Matriz Incidência (A)"
      ]
    },
    {
      "cell_type": "markdown",
      "metadata": {
        "id": "z19cylIdOS0O"
      },
      "source": [
        "Sabemos que a matriz tem dimensões nxb, aonde n representa a quantidade de nós e b a quantidade de ramos (branchs) "
      ]
    },
    {
      "cell_type": "code",
      "metadata": {
        "id": "s2K5xCDzOS0P"
      },
      "source": [
        "# - Quantos nós e quantos ramos existem no circuito?\n",
        "\n",
        "#criando um dataframe que possui somente os nós\n",
        "nos = circuito[['nó saída', 'nó chegada']]\n",
        "\n",
        "#sabemos que a quantidade de nós vai ser dada pelo máximo número encontrado na tabela \"nos\"\n",
        "quantidade_de_nos = nos.values.max()\n",
        "\n",
        "#a quantidade de ramos é dada pela quantidade de linhas que possuimos na tabela.\n",
        "quantidade_de_ramos = circuito.shape[0] \n",
        "\n",
        "#a matriz de incidencia completa terá dimensões quantidade_de_nos x quantidade_de_ramos\n",
        "incidencia_completa = np.zeros((quantidade_de_nos, quantidade_de_ramos)) #matriz de zeros\n"
      ],
      "execution_count": 51,
      "outputs": []
    },
    {
      "cell_type": "markdown",
      "metadata": {
        "id": "J6Xm_jYiOS0Q"
      },
      "source": [
        "Ainda sabemos que como os nossos ramos são grafos orientados, a matriz de incidência terá em uma coluna somente 2 linhas com valores diferente de 0, uma com valor 1 (linha referente ao nó de saída) e outra com valor -1 (linha referente ao nó de chegada)"
      ]
    },
    {
      "cell_type": "code",
      "metadata": {
        "id": "mPQ3TOZrOS0R",
        "colab": {
          "base_uri": "https://localhost:8080/"
        },
        "outputId": "628fe5f9-4043-4574-a431-76b8671f1284"
      },
      "source": [
        "#Além disso terá 1 quando a corrente tiver saindo do nó e -1 quando estiver chegando\n",
        "for ramo in range(quantidade_de_ramos): \n",
        "    #contando o nó a partir do zero\n",
        "    no_de_saida = nos['nó saída'][ramo+1] - 1 # -1 dado que arrays indexa a partir do 0\n",
        "    no_de_chegada =  nos['nó chegada'][ramo+1] - 1 \n",
        "\n",
        "    #a matriz tem 1 na linha do nó de saida, coluna do ramo \n",
        "    incidencia_completa[no_de_saida,ramo] = 1\n",
        "#a matriz tem -1 na linha do nó de chegada, coluna do ramo\n",
        "    incidencia_completa[no_de_chegada, ramo] = -1\n",
        "\n",
        "incidencia_completa"
      ],
      "execution_count": 52,
      "outputs": [
        {
          "output_type": "execute_result",
          "data": {
            "text/plain": [
              "array([[ 1., -1.,  0.,  0.],\n",
              "       [ 0.,  1.,  1.,  1.],\n",
              "       [-1.,  0., -1., -1.]])"
            ]
          },
          "metadata": {
            "tags": []
          },
          "execution_count": 52
        }
      ]
    },
    {
      "cell_type": "markdown",
      "metadata": {
        "id": "NuAARG1dOS0S"
      },
      "source": [
        "Porém, sabemos que a matriz de incidência é linearmente dependente, então não precisamos usar todas as linhas da matriz, podemos alcançar todos os resultados desejados com a matriz de incidência reduzida (retirando a última linha)"
      ]
    },
    {
      "cell_type": "code",
      "metadata": {
        "id": "E72kly5COS0S",
        "colab": {
          "base_uri": "https://localhost:8080/"
        },
        "outputId": "64bd3d18-2442-4ab4-e7aa-18bc4d0d0f67"
      },
      "source": [
        "# \"A\" será a matriz de incidência reduzida. Iremos retirar a última linha da incidencia_completa\n",
        "A = incidencia_completa[:-1,:]\n",
        "A"
      ],
      "execution_count": 53,
      "outputs": [
        {
          "output_type": "execute_result",
          "data": {
            "text/plain": [
              "array([[ 1., -1.,  0.,  0.],\n",
              "       [ 0.,  1.,  1.,  1.]])"
            ]
          },
          "metadata": {
            "tags": []
          },
          "execution_count": 53
        }
      ]
    },
    {
      "cell_type": "code",
      "metadata": {
        "id": "p1B3MplnOS0T",
        "colab": {
          "base_uri": "https://localhost:8080/"
        },
        "outputId": "2ab950b6-bd78-40df-c0f9-caa21e71ab50"
      },
      "source": [
        "#a transpota da matriz de incidência reduzida:\n",
        "A.T"
      ],
      "execution_count": 54,
      "outputs": [
        {
          "output_type": "execute_result",
          "data": {
            "text/plain": [
              "array([[ 1.,  0.],\n",
              "       [-1.,  1.],\n",
              "       [ 0.,  1.],\n",
              "       [ 0.,  1.]])"
            ]
          },
          "metadata": {
            "tags": []
          },
          "execution_count": 54
        }
      ]
    },
    {
      "cell_type": "markdown",
      "metadata": {
        "id": "f6vIWmneOS0V"
      },
      "source": [
        "## Matriz admitância (Yb)"
      ]
    },
    {
      "cell_type": "markdown",
      "metadata": {
        "id": "KcBBQ8IxOS0W"
      },
      "source": [
        "#### Para calcular a matriz de admitância vamos realizar os seguintes passos:\n",
        "1. Montar uma tabela com as reatâncias resultantes de cada ramo \n",
        "2. Aplicar a função inversa e obter as admitâncias resultantes de cada ramo\n",
        "3. Montar a matriz diagonal \"Yb\" a partir da tabela construída"
      ]
    },
    {
      "cell_type": "code",
      "metadata": {
        "id": "brUQr0H1OS0W",
        "colab": {
          "base_uri": "https://localhost:8080/"
        },
        "outputId": "42bab0ac-b581-4df4-f571-5a8f9b702c3f"
      },
      "source": [
        "#Temos que a reatância de cada ramo pode ser calculada da seguinte forma:\n",
        "R = circuito['R(Ohm)']\n",
        "Xc = circuito['Xc(Ohm)']\n",
        "Xl = circuito['Xl(Ohm)']\n",
        "Zeq = R + 1j*(Xl - Xc)\n",
        "\n",
        "Zeq"
      ],
      "execution_count": 55,
      "outputs": [
        {
          "output_type": "execute_result",
          "data": {
            "text/plain": [
              "Ramo\n",
              "1    3.000000+0.000000j\n",
              "2    0.000000-2.000000j\n",
              "3    0.000000+4.000000j\n",
              "4    6.000000+0.000000j\n",
              "dtype: complex128"
            ]
          },
          "metadata": {
            "tags": []
          },
          "execution_count": 55
        }
      ]
    },
    {
      "cell_type": "code",
      "metadata": {
        "id": "NvfAQekWOS0X",
        "colab": {
          "base_uri": "https://localhost:8080/"
        },
        "outputId": "504b7719-d7be-4d51-9175-9246fd4f4799"
      },
      "source": [
        "#Então a admitância:\n",
        "Yeq = 1/Zeq\n",
        "Yeq"
      ],
      "execution_count": 56,
      "outputs": [
        {
          "output_type": "execute_result",
          "data": {
            "text/plain": [
              "Ramo\n",
              "1    0.333333+0.000000j\n",
              "2   -0.000000+0.500000j\n",
              "3    0.000000-0.250000j\n",
              "4    0.166667+0.000000j\n",
              "dtype: complex128"
            ]
          },
          "metadata": {
            "tags": []
          },
          "execution_count": 56
        }
      ]
    },
    {
      "cell_type": "code",
      "metadata": {
        "id": "t1nEeeWOOS0X",
        "colab": {
          "base_uri": "https://localhost:8080/"
        },
        "outputId": "a4a05405-d7e6-4a73-9cf4-df82171777a0"
      },
      "source": [
        "Yb = np.diag(Yeq)\n",
        "#apresentando de forma mais legível\n",
        "print(Yb, sep='\\n')"
      ],
      "execution_count": 57,
      "outputs": [
        {
          "output_type": "stream",
          "text": [
            "[[ 0.33333333+0.j    0.        +0.j    0.        +0.j    0.        +0.j  ]\n",
            " [ 0.        +0.j   -0.        +0.5j   0.        +0.j    0.        +0.j  ]\n",
            " [ 0.        +0.j    0.        +0.j    0.        -0.25j  0.        +0.j  ]\n",
            " [ 0.        +0.j    0.        +0.j    0.        +0.j    0.16666667+0.j  ]]\n"
          ],
          "name": "stdout"
        }
      ]
    },
    {
      "cell_type": "markdown",
      "metadata": {
        "id": "H0VVKa3rOS0Y"
      },
      "source": [
        "## Matriz admitância de nós (Yn)"
      ]
    },
    {
      "cell_type": "code",
      "metadata": {
        "id": "OHp8kGzuOS0Z",
        "colab": {
          "base_uri": "https://localhost:8080/"
        },
        "outputId": "1896da0c-1f1b-4d98-c0c9-0c05c25b2904"
      },
      "source": [
        "# A matriz admitância de nós é dada pela seguinte expressão:\n",
        "# Yn = A*Yb*A.T\n",
        "Yn = np.dot(A.dot(Yb),A.T)\n",
        "Yn"
      ],
      "execution_count": 58,
      "outputs": [
        {
          "output_type": "execute_result",
          "data": {
            "text/plain": [
              "array([[0.33333333+0.5j , 0.        -0.5j ],\n",
              "       [0.        -0.5j , 0.16666667+0.25j]])"
            ]
          },
          "metadata": {
            "tags": []
          },
          "execution_count": 58
        }
      ]
    },
    {
      "cell_type": "markdown",
      "metadata": {
        "id": "XzH43ILkOS0Z"
      },
      "source": [
        "## Fontes Independentes  "
      ]
    },
    {
      "cell_type": "markdown",
      "metadata": {
        "id": "32nFbVRaOS0Z"
      },
      "source": [
        "### Fontes Independentes de Tensão"
      ]
    },
    {
      "cell_type": "code",
      "metadata": {
        "id": "Xc6Qzs-5OS0Z",
        "colab": {
          "base_uri": "https://localhost:8080/"
        },
        "outputId": "91742148-3774-4135-cac1-778c0c8f72cf"
      },
      "source": [
        "#O usuário irá fornecer o fasor das fontes, \n",
        "#então iremos primeiro criar uma tabela com a representação cartesiana\n",
        "\n",
        "#Para fonte de tensão:\n",
        "modulo_V = circuito['Vind(V)']\n",
        "fase_V = circuito['Fase_Vind']\n",
        "Vs = modulo_V*(np.cos(fase_V) + 1j*np.sin(fase_V))\n",
        "Vs"
      ],
      "execution_count": 59,
      "outputs": [
        {
          "output_type": "execute_result",
          "data": {
            "text/plain": [
              "Ramo\n",
              "1     0.000000+0.000000j\n",
              "2     0.000000+0.000000j\n",
              "3     0.000000+0.000000j\n",
              "4    12.000000+0.000000j\n",
              "dtype: complex128"
            ]
          },
          "metadata": {
            "tags": []
          },
          "execution_count": 59
        }
      ]
    },
    {
      "cell_type": "markdown",
      "metadata": {
        "id": "F1zuZsTLOS0a"
      },
      "source": [
        "### Fontes Independentes de Corrente"
      ]
    },
    {
      "cell_type": "code",
      "metadata": {
        "id": "YoQDJPVlOS0a",
        "colab": {
          "base_uri": "https://localhost:8080/"
        },
        "outputId": "38de9214-5172-455f-e4d9-abddee37c10b"
      },
      "source": [
        "#Para fonte de corrente:\n",
        "modulo_I = circuito['Iind(A)']\n",
        "fase_I = circuito['Fase_Iind']\n",
        "Js = modulo_I*(np.cos(fase_I) + 1j*np.sin(fase_I))\n",
        "Js"
      ],
      "execution_count": 60,
      "outputs": [
        {
          "output_type": "execute_result",
          "data": {
            "text/plain": [
              "Ramo\n",
              "1   -0.666938+0.745113j\n",
              "2    0.000000+0.000000j\n",
              "3    0.000000+0.000000j\n",
              "4    0.000000+0.000000j\n",
              "dtype: complex128"
            ]
          },
          "metadata": {
            "tags": []
          },
          "execution_count": 60
        }
      ]
    },
    {
      "cell_type": "markdown",
      "metadata": {
        "id": "9n9WWRUzOS0b"
      },
      "source": [
        "### Cálculo de Is"
      ]
    },
    {
      "cell_type": "code",
      "metadata": {
        "id": "vUrkxe1tOS0b",
        "colab": {
          "base_uri": "https://localhost:8080/"
        },
        "outputId": "60d4be74-0cd8-4392-dc08-8d32d222a4af"
      },
      "source": [
        "# A matriz Is é dada pela seguinte expressão:\n",
        "# Yn = A*Yb*Vs - A*Js\n",
        "Is = np.dot(A.dot(Yb), Vs) - np.dot(A, Js)\n",
        "Is"
      ],
      "execution_count": 61,
      "outputs": [
        {
          "output_type": "execute_result",
          "data": {
            "text/plain": [
              "array([0.66693806-0.74511316j, 2.        +0.j        ])"
            ]
          },
          "metadata": {
            "tags": []
          },
          "execution_count": 61
        }
      ]
    },
    {
      "cell_type": "markdown",
      "metadata": {
        "id": "OVaHuw0cOS0b"
      },
      "source": [
        "### Cálculo da tensão de nó"
      ]
    },
    {
      "cell_type": "code",
      "metadata": {
        "id": "U4BLEcoCOS0b",
        "colab": {
          "base_uri": "https://localhost:8080/"
        },
        "outputId": "555e2720-a143-4768-f822-d289aa0b58e6"
      },
      "source": [
        "# E = Yn^-1 * Is\n",
        "Yn_inv = np.linalg.inv(Yn)  \n",
        "E = Yn_inv.dot(Is)\n",
        "E "
      ],
      "execution_count": 62,
      "outputs": [
        {
          "output_type": "execute_result",
          "data": {
            "text/plain": [
              "array([3.767288  +2.29662086j, 6.78859489+1.11897165j])"
            ]
          },
          "metadata": {
            "tags": []
          },
          "execution_count": 62
        }
      ]
    },
    {
      "cell_type": "markdown",
      "metadata": {
        "id": "NuqywoKZOS0c"
      },
      "source": [
        "### Cálculo de tensão de ramo"
      ]
    },
    {
      "cell_type": "code",
      "metadata": {
        "id": "aIiL8UvbOS0c",
        "colab": {
          "base_uri": "https://localhost:8080/"
        },
        "outputId": "18dbd795-2749-4868-b7b4-fed763aa8d86"
      },
      "source": [
        "# V = A^T * E\n",
        "V = np.dot(A.T, E)\n",
        "V  "
      ],
      "execution_count": 63,
      "outputs": [
        {
          "output_type": "execute_result",
          "data": {
            "text/plain": [
              "array([3.767288  +2.29662086j, 3.0213069 -1.17764921j,\n",
              "       6.78859489+1.11897165j, 6.78859489+1.11897165j])"
            ]
          },
          "metadata": {
            "tags": []
          },
          "execution_count": 63
        }
      ]
    },
    {
      "cell_type": "markdown",
      "metadata": {
        "id": "2JC7uTAFOS0d"
      },
      "source": [
        "### Cálculo de corrente de ramo"
      ]
    },
    {
      "cell_type": "code",
      "metadata": {
        "id": "WreeZVXqOS0d",
        "colab": {
          "base_uri": "https://localhost:8080/"
        },
        "outputId": "84e03f92-ee8f-4947-cee6-4f92474aa8b3"
      },
      "source": [
        "# J = Js + Yb * V - Yb * Vs\n",
        "J = Js.values + np.dot(Yb,V) - np.dot(Yb, Vs)\n",
        "J"
      ],
      "execution_count": 64,
      "outputs": [
        {
          "output_type": "execute_result",
          "data": {
            "text/plain": [
              "array([ 0.5888246 +1.51065345j,  0.5888246 +1.51065345j,\n",
              "        0.27974291-1.69714872j, -0.86856752+0.18649528j])"
            ]
          },
          "metadata": {
            "tags": []
          },
          "execution_count": 64
        }
      ]
    },
    {
      "cell_type": "markdown",
      "metadata": {
        "id": "TKO97LLGOS0d"
      },
      "source": [
        "## Tabela de Saída"
      ]
    },
    {
      "cell_type": "code",
      "metadata": {
        "id": "OMjNzJI4OS0d",
        "colab": {
          "base_uri": "https://localhost:8080/",
          "height": 49
        },
        "outputId": "687477f4-1548-4664-93d9-4d7535ff846e"
      },
      "source": [
        "df_saida = pd.DataFrame(columns=[\"Tensão de Ramo (V)\", \"Corrente de Ramo (A)\"])\n",
        "\n",
        "df_saida"
      ],
      "execution_count": 65,
      "outputs": [
        {
          "output_type": "execute_result",
          "data": {
            "text/html": [
              "<div>\n",
              "<style scoped>\n",
              "    .dataframe tbody tr th:only-of-type {\n",
              "        vertical-align: middle;\n",
              "    }\n",
              "\n",
              "    .dataframe tbody tr th {\n",
              "        vertical-align: top;\n",
              "    }\n",
              "\n",
              "    .dataframe thead th {\n",
              "        text-align: right;\n",
              "    }\n",
              "</style>\n",
              "<table border=\"1\" class=\"dataframe\">\n",
              "  <thead>\n",
              "    <tr style=\"text-align: right;\">\n",
              "      <th></th>\n",
              "      <th>Tensão de Ramo (V)</th>\n",
              "      <th>Corrente de Ramo (A)</th>\n",
              "    </tr>\n",
              "  </thead>\n",
              "  <tbody>\n",
              "  </tbody>\n",
              "</table>\n",
              "</div>"
            ],
            "text/plain": [
              "Empty DataFrame\n",
              "Columns: [Tensão de Ramo (V), Corrente de Ramo (A)]\n",
              "Index: []"
            ]
          },
          "metadata": {
            "tags": []
          },
          "execution_count": 65
        }
      ]
    },
    {
      "cell_type": "code",
      "metadata": {
        "id": "APRNEDNAOS0e",
        "colab": {
          "base_uri": "https://localhost:8080/",
          "height": 112
        },
        "outputId": "18550fc3-5f96-43b0-db99-fba465af6bbc"
      },
      "source": [
        "df_saida_no = pd.DataFrame(columns=['Tensão de Nó (V)'])\n",
        "df_saida_no['Tensão de Nó (V)'] = E\n",
        "df_saida_no"
      ],
      "execution_count": 66,
      "outputs": [
        {
          "output_type": "execute_result",
          "data": {
            "text/html": [
              "<div>\n",
              "<style scoped>\n",
              "    .dataframe tbody tr th:only-of-type {\n",
              "        vertical-align: middle;\n",
              "    }\n",
              "\n",
              "    .dataframe tbody tr th {\n",
              "        vertical-align: top;\n",
              "    }\n",
              "\n",
              "    .dataframe thead th {\n",
              "        text-align: right;\n",
              "    }\n",
              "</style>\n",
              "<table border=\"1\" class=\"dataframe\">\n",
              "  <thead>\n",
              "    <tr style=\"text-align: right;\">\n",
              "      <th></th>\n",
              "      <th>Tensão de Nó (V)</th>\n",
              "    </tr>\n",
              "  </thead>\n",
              "  <tbody>\n",
              "    <tr>\n",
              "      <th>0</th>\n",
              "      <td>3.767288+2.296621j</td>\n",
              "    </tr>\n",
              "    <tr>\n",
              "      <th>1</th>\n",
              "      <td>6.788595+1.118972j</td>\n",
              "    </tr>\n",
              "  </tbody>\n",
              "</table>\n",
              "</div>"
            ],
            "text/plain": [
              "     Tensão de Nó (V)\n",
              "0  3.767288+2.296621j\n",
              "1  6.788595+1.118972j"
            ]
          },
          "metadata": {
            "tags": []
          },
          "execution_count": 66
        }
      ]
    },
    {
      "cell_type": "code",
      "metadata": {
        "id": "OCmmh1YcOS0f",
        "colab": {
          "base_uri": "https://localhost:8080/",
          "height": 206
        },
        "outputId": "86ec851e-ce33-4d3f-cf04-953a03513ba5"
      },
      "source": [
        "df_saida['Tensão de Ramo (V)'] = V\n",
        "df_saida['Corrente de Ramo (A)'] = J\n",
        "df_saida['Tensão de Nó (V)'] = df_saida_no\n",
        "df_saida.set_index([circuito.index], inplace=True)\n",
        "\n",
        "df_saida"
      ],
      "execution_count": 67,
      "outputs": [
        {
          "output_type": "execute_result",
          "data": {
            "text/html": [
              "<div>\n",
              "<style scoped>\n",
              "    .dataframe tbody tr th:only-of-type {\n",
              "        vertical-align: middle;\n",
              "    }\n",
              "\n",
              "    .dataframe tbody tr th {\n",
              "        vertical-align: top;\n",
              "    }\n",
              "\n",
              "    .dataframe thead th {\n",
              "        text-align: right;\n",
              "    }\n",
              "</style>\n",
              "<table border=\"1\" class=\"dataframe\">\n",
              "  <thead>\n",
              "    <tr style=\"text-align: right;\">\n",
              "      <th></th>\n",
              "      <th>Tensão de Ramo (V)</th>\n",
              "      <th>Corrente de Ramo (A)</th>\n",
              "      <th>Tensão de Nó (V)</th>\n",
              "    </tr>\n",
              "    <tr>\n",
              "      <th>Ramo</th>\n",
              "      <th></th>\n",
              "      <th></th>\n",
              "      <th></th>\n",
              "    </tr>\n",
              "  </thead>\n",
              "  <tbody>\n",
              "    <tr>\n",
              "      <th>1</th>\n",
              "      <td>3.767288+2.296621j</td>\n",
              "      <td>0.588825+1.510653j</td>\n",
              "      <td>3.767288+2.296621j</td>\n",
              "    </tr>\n",
              "    <tr>\n",
              "      <th>2</th>\n",
              "      <td>3.021307-1.177649j</td>\n",
              "      <td>0.588825+1.510653j</td>\n",
              "      <td>6.788595+1.118972j</td>\n",
              "    </tr>\n",
              "    <tr>\n",
              "      <th>3</th>\n",
              "      <td>6.788595+1.118972j</td>\n",
              "      <td>0.279743-1.697149j</td>\n",
              "      <td>NaN</td>\n",
              "    </tr>\n",
              "    <tr>\n",
              "      <th>4</th>\n",
              "      <td>6.788595+1.118972j</td>\n",
              "      <td>-0.868568+0.186495j</td>\n",
              "      <td>NaN</td>\n",
              "    </tr>\n",
              "  </tbody>\n",
              "</table>\n",
              "</div>"
            ],
            "text/plain": [
              "      Tensão de Ramo (V)  Corrente de Ramo (A)    Tensão de Nó (V)\n",
              "Ramo                                                              \n",
              "1     3.767288+2.296621j    0.588825+1.510653j  3.767288+2.296621j\n",
              "2     3.021307-1.177649j    0.588825+1.510653j  6.788595+1.118972j\n",
              "3     6.788595+1.118972j    0.279743-1.697149j                 NaN\n",
              "4     6.788595+1.118972j   -0.868568+0.186495j                 NaN"
            ]
          },
          "metadata": {
            "tags": []
          },
          "execution_count": 67
        }
      ]
    },
    {
      "cell_type": "markdown",
      "metadata": {
        "id": "4cXIKgC3OS0f"
      },
      "source": [
        "#### Arquivo de saída"
      ]
    },
    {
      "cell_type": "code",
      "metadata": {
        "id": "CJCTCrV5OS0f"
      },
      "source": [
        "df_saida.to_csv('saida_senoidal.csv')"
      ],
      "execution_count": 68,
      "outputs": []
    },
    {
      "cell_type": "markdown",
      "metadata": {
        "id": "YKOm8rblPEv4"
      },
      "source": [
        "### Gráfico! "
      ]
    },
    {
      "cell_type": "markdown",
      "metadata": {
        "id": "FY8jVm7ulvuo"
      },
      "source": [
        "Gráfico das Tensões nos Ramos:\r\n"
      ]
    },
    {
      "cell_type": "code",
      "metadata": {
        "id": "_FLRON6tO7GW",
        "colab": {
          "base_uri": "https://localhost:8080/"
        },
        "outputId": "60960a63-0775-479b-c83b-3a09de1e7198"
      },
      "source": [
        "tensao_ramo_modulo = np.abs(df_saida['Tensão de Ramo (V)'].values)\r\n",
        "tensao_ramo_fase = np.angle(df_saida['Tensão de Ramo (V)'].values)\r\n",
        "t = np.linspace(0,10,1000)\r\n",
        "\r\n",
        "# w precisa ser definido previamente\r\n",
        "w = int(input('defina o valor de w em [rad/s]: w = '))"
      ],
      "execution_count": 69,
      "outputs": [
        {
          "output_type": "stream",
          "text": [
            "defina o valor de w em [rad/s]: w = 1\n"
          ],
          "name": "stdout"
        }
      ]
    },
    {
      "cell_type": "code",
      "metadata": {
        "colab": {
          "base_uri": "https://localhost:8080/",
          "height": 295
        },
        "id": "Do2GnBdPgs8n",
        "outputId": "bd230a01-2a54-4b81-c7e6-7014572e53c0"
      },
      "source": [
        "for ramo in range(quantidade_de_ramos):\r\n",
        "  tensao_ramo = tensao_ramo_modulo[ramo] * np.cos(w*t + tensao_ramo_fase[ramo])\r\n",
        "  plt.plot(t, tensao_ramo, label = f'Ramo:{ramo+1}')\r\n",
        "\r\n",
        "plt.title ('Tensões de Ramo')\r\n",
        "plt.legend()\r\n",
        "plt.xlabel('Tempo (s)')\r\n",
        "plt.ylabel('Tensão (V)')\r\n",
        "plt.grid(True)\r\n"
      ],
      "execution_count": 70,
      "outputs": [
        {
          "output_type": "display_data",
          "data": {
            "image/png": "[encoded data removed]",
            "text/plain": [
              "<Figure size 432x288 with 1 Axes>"
            ]
          },
          "metadata": {
            "tags": [],
            "needs_background": "light"
          }
        }
      ]
    },
    {
      "cell_type": "markdown",
      "metadata": {
        "id": "RZD2XbiCl8qO"
      },
      "source": [
        "Gráfico das Tensões\r\n"
      ]
    },
    {
      "cell_type": "code",
      "metadata": {
        "id": "i0DV-vWgmj3z"
      },
      "source": [
        "corrente_ramo_modulo = np.abs(df_saida['Corrente de Ramo (A)'].values)\r\n",
        "corrente_ramo_fase = np.angle(df_saida['Corrente de Ramo (A)'].values)"
      ],
      "execution_count": 71,
      "outputs": []
    },
    {
      "cell_type": "code",
      "metadata": {
        "colab": {
          "base_uri": "https://localhost:8080/",
          "height": 295
        },
        "id": "W9GhKNxDmj6g",
        "outputId": "c95b4549-8d80-4866-f123-799101cc9abb"
      },
      "source": [
        "for ramo in range(quantidade_de_ramos):\r\n",
        "  corrente_ramo = corrente_ramo_modulo[ramo] * np.cos(w*t + corrente_ramo_fase[ramo])\r\n",
        "  plt.plot(t, corrente_ramo, label = f'Ramo:{ramo+1}')\r\n",
        "\r\n",
        "plt.title ('Corrente de Ramo')\r\n",
        "plt.legend()\r\n",
        "plt.xlabel('Tempo (s)')\r\n",
        "plt.ylabel('Corrente (A)')\r\n",
        "plt.grid(True)"
      ],
      "execution_count": 72,
      "outputs": [
        {
          "output_type": "display_data",
          "data": {
            "image/png": "[encoded data removed]",
            "text/plain": [
              "<Figure size 432x288 with 1 Axes>"
            ]
          },
          "metadata": {
            "tags": [],
            "needs_background": "light"
          }
        }
      ]
    },
    {
      "cell_type": "code",
      "metadata": {
        "id": "ETR2CEU3mj9g"
      },
      "source": [
        "tensao_no_modulo = np.abs(df_saida['Tensão de Nó (V)'].values)\r\n",
        "tensao_no_fase = np.angle(df_saida['Tensão de Nó (V)'].values)"
      ],
      "execution_count": 73,
      "outputs": []
    },
    {
      "cell_type": "code",
      "metadata": {
        "colab": {
          "base_uri": "https://localhost:8080/",
          "height": 295
        },
        "id": "Nk-tGKeZnnAs",
        "outputId": "56fcdce8-2e0d-460b-b5a6-de266b3f28c1"
      },
      "source": [
        "for nos in range(quantidade_de_nos-1):\r\n",
        "   tensao_no = tensao_no_modulo[nos] * np.cos(w*t + tensao_no_fase[nos])\r\n",
        "   plt.plot(t, tensao_no, label = f'Nó:{nos+1}')\r\n",
        "\r\n",
        "plt.title ('Tensões de Nó')\r\n",
        "plt.legend()\r\n",
        "plt.xlabel('Tempo (s)')\r\n",
        "plt.ylabel('Tensão (V)')\r\n",
        "plt.grid(True)"
      ],
      "execution_count": 74,
      "outputs": [
        {
          "output_type": "display_data",
          "data": {
            "image/png": "[encoded data removed]",
            "text/plain": [
              "<Figure size 432x288 with 1 Axes>"
            ]
          },
          "metadata": {
            "tags": [],
            "needs_background": "light"
          }
        }
      ]
    }
  ]
}